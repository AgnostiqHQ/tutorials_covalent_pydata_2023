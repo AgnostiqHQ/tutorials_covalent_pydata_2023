{
 "cells": [
  {
   "cell_type": "markdown",
   "metadata": {},
   "source": [
    "# Covalent [Quick Start Guide](https://docs.covalent.xyz/docs/get-started/quick-start/)\n",
    "\n",
    "> ⚠️ **Before you start:** Ensure you are using a compatible OS and Python version. See the [Compatibility](https://docs.covalent.xyz/docs/user-documentation/compatibility/) page for supported Python versions and operating systems."
   ]
  },
  {
   "cell_type": "markdown",
   "metadata": {},
   "source": [
    "#### Install from PYPI\n",
    "\n",
    "```\n",
    "pip install covalent\n",
    "```\n",
    "\n",
    "#### Usage\n",
    "\n",
    "👉 Add one or more [@ct.electron](https://docs.covalent.xyz/docs/user-documentation/concepts/covalent-basics#electron) decorators to designate workflow tasks (i.e. *electrons*).\n",
    "\n",
    "👉 Specify [executors](https://docs.covalent.xyz/docs/plugin) to choose electron backends.\n",
    "\n",
    "\n",
    "# 🔗 See links below for more information!\n",
    "\n",
    "- 🌟 [Covalent GitHub](https://github.com/AgnostiqHQ/covalent)\n",
    "- 📚 [Covalent Documentation](https://docs.covalent.xyz)\n",
    "- ✍️ [Covalent Blogs](https://www.covalent.xyz/blog/)\n",
    "    - [Simplifying generative AI workflows with Covalent and Streamlit](https://blog.streamlit.io/simplifying-generative-ai-workflows/)\n",
    "    - [Improving Chest X-ray Pneumonia Detection with Federated Learning and Covalent](https://medium.com/@filip_98594/improving-chest-x-ray-pneumonia-detection-with-federated-learning-and-covalent-ff60eef7946c)\n"
   ]
  },
  {
   "cell_type": "markdown",
   "metadata": {},
   "source": [
    "---"
   ]
  },
  {
   "cell_type": "markdown",
   "metadata": {},
   "source": [
    "# Tutorial Setup"
   ]
  },
  {
   "cell_type": "markdown",
   "metadata": {},
   "source": [
    "## Start Covalent\n",
    "\n",
    "Run the following command to start Covalent:\n",
    "\n",
    "```shell\n",
    "covalent start\n",
    "```"
   ]
  },
  {
   "cell_type": "markdown",
   "metadata": {},
   "source": [
    "---"
   ]
  },
  {
   "cell_type": "markdown",
   "metadata": {},
   "source": [
    "## Covalent Quickstart\n",
    "\n",
    "Using Covalent means interacting with four main elements.\n",
    "\n",
    "Two decorators for *creating workflows*:\n",
    "\n",
    "- [`@ct.electron`](https://docs.covalent.xyz/docs/user-documentation/concepts/covalent-basics#electron) - designates workflow tasks\n",
    "- [`@ct.lattice`](https://docs.covalent.xyz/docs/user-documentation/concepts/covalent-basics#lattice) - designates the main workflow function\n",
    "\n",
    "and two functions for *running workflows*:\n",
    "\n",
    "- [`ct.dispatch()`](https://docs.covalent.xyz/docs/user-documentation/concepts/covalent-basics#dispatch) - dispatches the workflow\n",
    "- [`ct.get_result()`](https://docs.covalent.xyz/docs/user-documentation/concepts/covalent-basics#result) - retrieve a workflow result"
   ]
  },
  {
   "cell_type": "code",
   "execution_count": null,
   "metadata": {},
   "outputs": [],
   "source": [
    "import covalent as ct\n",
    "\n",
    "# Construct manageable tasks out of functions\n",
    "# by adding the @ct.electron decorator\n",
    "@ct.electron\n",
    "def add(x, y):\n",
    "   return x + y\n",
    "\n",
    "@ct.electron\n",
    "def multiply(x, y):\n",
    "   return x*y\n",
    "\n",
    "# Note that electrons can be shipped to variety of compute\n",
    "# backends using executors, for example, \"local\" computer.\n",
    "# See below for other common executors.\n",
    "@ct.electron(executor=\"local\")\n",
    "def divide(x, y):\n",
    "   return x/y\n",
    "\n",
    "# Construct the workflow by stitching together\n",
    "# the electrons defined earlier in a function with\n",
    "# the @ct.lattice decorator\n",
    "@ct.lattice\n",
    "def workflow(x, y):\n",
    "   r1 = add(x, y)\n",
    "   r2 = [multiply(r1, y) for _ in range(4)]\n",
    "   r3 = [divide(x, value) for value in r2]\n",
    "   return r3\n",
    "\n",
    "# Dispatch the workflow\n",
    "dispatch_id = ct.dispatch(workflow)(1, 2)\n",
    "result = ct.get_result(dispatch_id, wait=True)\n",
    "print(result)"
   ]
  },
  {
   "cell_type": "markdown",
   "metadata": {},
   "source": [
    "## View the workflow progress\n",
    "\n",
    "Navigate to the Covalent UI at [http://localhost:48008](http://localhost:48008) to see your workflow in the queue:\n",
    "\n"
   ]
  },
  {
   "cell_type": "markdown",
   "metadata": {},
   "source": [
    "<div align=\"center\">\n",
    "<img src=\"https://drive.google.com/uc?id=1jSc8uZm_jWSQFxgugfUKBwIi4Lb1mFgg\">\n",
    "</div>"
   ]
  },
  {
   "cell_type": "markdown",
   "metadata": {},
   "source": [
    "## See [Covalent docs](https://docs.covalent.xyz/docs/) 📚\n",
    "\n",
    "- [Covalent concepts](https://docs.covalent.xyz/docs/user-documentation/concepts/concepts-index)\n",
    "- [Commonly used features](https://docs.covalent.xyz/docs/get-started/quick-start/#commonly-used-features)\n",
    "- [What to do next](https://docs.covalent.xyz/docs/get-started/quick-start/#what-to-do-next)"
   ]
  }
 ],
 "metadata": {
  "kernelspec": {
   "display_name": "covalent_pydata_2023",
   "language": "python",
   "name": "python3"
  },
  "language_info": {
   "codemirror_mode": {
    "name": "ipython",
    "version": 3
   },
   "file_extension": ".py",
   "mimetype": "text/x-python",
   "name": "python",
   "nbconvert_exporter": "python",
   "pygments_lexer": "ipython3",
   "version": "3.8.18"
  }
 },
 "nbformat": 4,
 "nbformat_minor": 2
}
